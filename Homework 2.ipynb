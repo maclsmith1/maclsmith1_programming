{
 "cells": [
  {
   "cell_type": "code",
   "execution_count": 2,
   "metadata": {
    "collapsed": true
   },
   "outputs": [],
   "source": [
    "lyrics= '''the wind was a torrent of darkness among the gusty trees   \n",
    "the moon was a ghostly galleon tossed upon cloudy seas   \n",
    "the road was a ribbon of moonlight over the purple moor   \n",
    "and the highwayman came riding \n",
    "riding riding \n",
    "the highwayman came riding, up to the old inn-door \n",
    "''' \n"
   ]
  },
  {
   "cell_type": "code",
   "execution_count": 3,
   "metadata": {
    "collapsed": false
   },
   "outputs": [
    {
     "data": {
      "text/plain": [
       "['the',\n",
       " 'wind',\n",
       " 'was',\n",
       " 'a',\n",
       " 'torrent',\n",
       " 'of',\n",
       " 'darkness',\n",
       " 'among',\n",
       " 'the',\n",
       " 'gusty',\n",
       " 'trees',\n",
       " '',\n",
       " '',\n",
       " 'the',\n",
       " 'moon',\n",
       " 'was',\n",
       " 'a',\n",
       " 'ghostly',\n",
       " 'galleon',\n",
       " 'tossed',\n",
       " 'upon',\n",
       " 'cloudy',\n",
       " 'seas',\n",
       " '',\n",
       " '',\n",
       " 'the',\n",
       " 'road',\n",
       " 'was',\n",
       " 'a',\n",
       " 'ribbon',\n",
       " 'of',\n",
       " 'moonlight',\n",
       " 'over',\n",
       " 'the',\n",
       " 'purple',\n",
       " 'moor',\n",
       " '',\n",
       " '',\n",
       " 'and',\n",
       " 'the',\n",
       " 'highwayman',\n",
       " 'came',\n",
       " 'riding',\n",
       " 'riding',\n",
       " 'riding',\n",
       " 'the',\n",
       " 'highwayman',\n",
       " 'came',\n",
       " 'riding,',\n",
       " 'up',\n",
       " 'to',\n",
       " 'the',\n",
       " 'old',\n",
       " 'inn-door',\n",
       " '']"
      ]
     },
     "execution_count": 3,
     "metadata": {},
     "output_type": "execute_result"
    }
   ],
   "source": [
    "words = lyrics.split(' ')\n",
    "words\n",
    "words1 = [s.strip() for s in words]\n",
    "words1"
   ]
  },
  {
   "cell_type": "code",
   "execution_count": 10,
   "metadata": {
    "collapsed": false
   },
   "outputs": [
    {
     "data": {
      "text/plain": [
       "['road', 'ribbon', 'riding', 'riding', 'riding', 'riding,']"
      ]
     },
     "execution_count": 10,
     "metadata": {},
     "output_type": "execute_result"
    }
   ],
   "source": [
    "list1 = [word for word in words1 if word.startswith('r')]\n",
    "list1"
   ]
  },
  {
   "cell_type": "code",
   "execution_count": 11,
   "metadata": {
    "collapsed": false
   },
   "outputs": [
    {
     "data": {
      "text/plain": [
       "{'ribbon', 'riding', 'riding,', 'road'}"
      ]
     },
     "execution_count": 11,
     "metadata": {},
     "output_type": "execute_result"
    }
   ],
   "source": [
    "set1 = set(list1)\n",
    "set1"
   ]
  },
  {
   "cell_type": "code",
   "execution_count": 9,
   "metadata": {
    "collapsed": false
   },
   "outputs": [
    {
     "data": {
      "text/plain": [
       "{'ribbon', 'riding', 'riding,', 'road'}"
      ]
     },
     "execution_count": 9,
     "metadata": {},
     "output_type": "execute_result"
    }
   ],
   "source": [
    "set2 = {word for word in words1 if word.startswith('r')}\n",
    "set2"
   ]
  },
  {
   "cell_type": "code",
   "execution_count": 8,
   "metadata": {
    "collapsed": false
   },
   "outputs": [
    {
     "data": {
      "text/plain": [
       "{'ribbon': 1, 'riding': 3, 'riding,': 1, 'road': 1}"
      ]
     },
     "execution_count": 8,
     "metadata": {},
     "output_type": "execute_result"
    }
   ],
   "source": [
    "dict1 = {word: words1.count(word) for word in words1 if word.startswith('r')}\n",
    "dict1"
   ]
  }
 ],
 "metadata": {
  "kernelspec": {
   "display_name": "Python 2",
   "language": "python",
   "name": "python2"
  },
  "language_info": {
   "codemirror_mode": {
    "name": "ipython",
    "version": 2
   },
   "file_extension": ".py",
   "mimetype": "text/x-python",
   "name": "python",
   "nbconvert_exporter": "python",
   "pygments_lexer": "ipython2",
   "version": "2.7.11"
  }
 },
 "nbformat": 4,
 "nbformat_minor": 0
}
